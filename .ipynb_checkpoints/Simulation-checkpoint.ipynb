{
 "cells": [
  {
   "cell_type": "code",
   "execution_count": 1,
   "metadata": {},
   "outputs": [],
   "source": [
    "import matplotlib.pyplot as plt\n",
    "import numpy as np\n",
    "import Geodesics as gd\n",
    "import Model as md\n",
    "import cmath as cmt\n",
    "import glob\n",
    "import os"
   ]
  },
  {
   "cell_type": "code",
   "execution_count": 3,
   "metadata": {},
   "outputs": [],
   "source": [
    "##Set simulation parameters\n",
    "\n",
    "p = 5; q = 4; nlayers = 6 #Lattice parameters\n",
    "nDecorr = 20 #Steps to decorrelate\n",
    "nMeasurements = 50000 #Number of measurements\n",
    "saveFreq = 10000 #Save frequency\n",
    "#Set up model\n",
    "model = md.FractonModel(p,q,nlayers)\n",
    "nBorder = len(model.border)\n",
    "\n",
    "# Define the directory where you want to save the files\n",
    "save_dir = \"../Data/P\"+str(p)+\"Q\"+str(q)+\"/\"+str(nlayers)+\"Layers\"\n",
    "\n",
    "# Check if the directory exists, if not, create it\n",
    "if not os.path.exists(save_dir):\n",
    "    os.makedirs(save_dir)"
   ]
  },
  {
   "cell_type": "code",
   "execution_count": null,
   "metadata": {},
   "outputs": [],
   "source": [
    "#Set up model\n",
    "model = md.FractonModel(p,q,nlayers)\n",
    "\n",
    "#Number of spins in the border\n",
    "nBorder = len(model.border)\n",
    "\n",
    "#Initialize correlation and states arrays\n",
    "corr = np.zeros(int(len(model.border)/2))\n",
    "#Initialize save counter\n",
    "saveCounter = 0\n",
    "\n",
    "#Simulation main loop\n",
    "for iteration in range(nMeasurements):\n",
    "    model.decorrelate(nDecorr)\n",
    "    corr += model.getBorderCorrelations()/(nBorder)\n",
    "    saveCounter += 1\n",
    "    if(saveCounter == saveFreq):\n",
    "        np.save(os.path.join(save_dir, \"Correlation\" + str(int(iteration/saveFreq)) + \".npy\"),np.array(corr))\n",
    "        saveCounter = 0"
   ]
  },
  {
   "cell_type": "code",
   "execution_count": null,
   "metadata": {},
   "outputs": [],
   "source": [
    "model.quick_plot(colors = 'spins')\n",
    "eArray = model.spins[model.border]*model.spins[model.border][np.array(model.borderNeigh)[:,0]]\n",
    "print(np.sum(eArray[model.borderNeigh]*eArray[:,None],axis = 0))"
   ]
  },
  {
   "cell_type": "code",
   "execution_count": 46,
   "metadata": {},
   "outputs": [],
   "source": [
    "corr_list = sorted(glob.glob(\"../Data/P5Q4/5Layers/Correlations?.npy\"))\n",
    "corr_list += sorted(glob.glob(\"../Data/P5Q4/5Layers/Correlations??.npy\"))\n",
    "\n",
    "states_list =sorted(glob.glob(\"../Data/P5Q4/5Layers/States?.npy\"))\n",
    "states_list +=sorted(glob.glob(\"../Data/P5Q4/5Layers/States??.npy\"))\n",
    "\n",
    "distances = np.linspace(1,int(nBorder/2),int(nBorder/2))"
   ]
  },
  {
   "cell_type": "code",
   "execution_count": 47,
   "metadata": {},
   "outputs": [
    {
     "name": "stdout",
     "output_type": "stream",
     "text": [
      "0\n",
      "1\n",
      "2\n",
      "3\n",
      "4\n",
      "5\n",
      "6\n",
      "7\n",
      "8\n",
      "9\n",
      "10\n",
      "11\n",
      "12\n",
      "13\n",
      "14\n"
     ]
    }
   ],
   "source": [
    "corrTest = np.zeros(280)\n",
    "for idx,file in enumerate(states_list):\n",
    "    print(idx)\n",
    "    state_spins = np.load(file)\n",
    "    for l in range(10000):\n",
    "        model.spins = state_spins[l,:]\n",
    "        corrTest += model.getBorderCorrelations() "
   ]
  },
  {
   "cell_type": "code",
   "execution_count": 21,
   "metadata": {},
   "outputs": [],
   "source": [
    "corrTest = corrTest/(1000000*560)"
   ]
  },
  {
   "cell_type": "code",
   "execution_count": null,
   "metadata": {},
   "outputs": [],
   "source": [
    "fig, ax = plt.subplots()\n",
    "ax.plot(distances[corrTest>0.005],corrTest[corrTest>0.005],'x-')\n",
    "ax.set_ylabel(r'$\\left< e_ne_{n+d} \\right>$')\n",
    "ax.set_xlabel(r'$d$')\n",
    "ax.set_xscale('log')\n",
    "ax.set_yscale('log')\n"
   ]
  },
  {
   "cell_type": "code",
   "execution_count": null,
   "metadata": {},
   "outputs": [],
   "source": [
    "def isBetween(z0,z1,z2):\n",
    "    cross10 = z1.real*z0.imag-z0.real*z1.imag\n",
    "    cross12 = z1.real*z2.imag-z2.real*z1.imag\n",
    "    cross20 = z2.real*z0.imag-z0.real*z2.imag\n",
    "    cross21 = -z1.real*z2.imag+z2.real*z1.imag\n",
    "    isBe = (cross10*cross12) >= 0 and (cross20*cross21) >= 0\n",
    "    return isBe"
   ]
  },
  {
   "cell_type": "code",
   "execution_count": null,
   "metadata": {},
   "outputs": [],
   "source": [
    "borderCenters = model.centers[model.border]\n",
    "centersAndNeighs = borderCenters[model.borderNeigh]\n",
    "wedges = np.zeros(int(len(borderCenters)/2))\n",
    "for idx1 in range(len(borderCenters)):\n",
    "    center = borderCenters[idx1]\n",
    "    neighs = centersAndNeighs[idx1,:]\n",
    "    for idx2 in range(int(len(borderCenters)/2)):\n",
    "        z1 = center\n",
    "        z2 = neighs[idx2]\n",
    "        for g in model.geodesicList:\n",
    "            add = 1\n",
    "            if isBetween(g.endpoints[0],z1,z2):\n",
    "                add *= -1\n",
    "            if isBetween(g.endpoints[0],z1,z2):\n",
    "                add *= -1\n",
    "            if add == -1:\n",
    "                wedges[idx2] += 1\n",
    "\n"
   ]
  }
 ],
 "metadata": {
  "kernelspec": {
   "display_name": "Python 3",
   "language": "python",
   "name": "python3"
  },
  "language_info": {
   "codemirror_mode": {
    "name": "ipython",
    "version": 3
   },
   "file_extension": ".py",
   "mimetype": "text/x-python",
   "name": "python",
   "nbconvert_exporter": "python",
   "pygments_lexer": "ipython3",
   "version": "3.10.12"
  }
 },
 "nbformat": 4,
 "nbformat_minor": 2
}
