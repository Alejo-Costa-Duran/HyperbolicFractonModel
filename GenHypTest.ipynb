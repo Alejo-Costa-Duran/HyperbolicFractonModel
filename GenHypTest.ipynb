{
 "cells": [
  {
   "cell_type": "code",
   "execution_count": null,
   "metadata": {},
   "outputs": [],
   "source": [
    "import matplotlib.pyplot as plt\n",
    "import numpy as np\n",
    "import Geodesics as gd\n",
    "import Model as md\n",
    "import cmath as cmt"
   ]
  },
  {
   "cell_type": "code",
   "execution_count": null,
   "metadata": {},
   "outputs": [],
   "source": [
    "\n",
    "from tqdm import tqdm\n",
    "p = 5; q = 4; nlayers = 5\n",
    "nDecorr = 20\n",
    "nMeasurements = 1000000\n",
    "model = md.FractonModel(p,q,nlayers)\n",
    "nBorder = len(model.border)\n",
    "\n",
    "\n",
    "corr = np.zeros((nMeasurements,int(len(model.border)/2)+1))\n",
    "corr[:,0] = len(model.border)\n",
    "accum_spins = []\n",
    "\n",
    "\n",
    "for iteration in tqdm(range(nMeasurements)):\n",
    "    for decorr in range(nDecorr):\n",
    "        geod = np.random.choice(model.geodesicList)\n",
    "        inner = np.random.randint(2)*2-1\n",
    "        model.spins = model.spins*inner*geod.vect_inside()(model.centers)\n",
    "    accum_spins.append(model.spins)\n",
    "    corr[iteration,1:] = model.getBorderCorrelations()/(nBorder)\n",
    "\n",
    "np.save(\"./States.npy\",np.array(accum_spins))\n",
    "np.save(\"./Correlations.npy\",corr)"
   ]
  },
  {
   "cell_type": "code",
   "execution_count": null,
   "metadata": {},
   "outputs": [],
   "source": [
    "print(len(model.border))\n",
    "print(len(model.bulk))"
   ]
  },
  {
   "cell_type": "code",
   "execution_count": null,
   "metadata": {},
   "outputs": [],
   "source": [
    "nmax = 5\n",
    "distances = np.linspace(1,len(model.border)/2,int(len(model.border)/2))\n",
    "mean_corr = np.mean(corr[:,1:],axis=0)"
   ]
  },
  {
   "cell_type": "code",
   "execution_count": null,
   "metadata": {},
   "outputs": [],
   "source": [
    "fig2, ax2 = plt.subplots()\n",
    "\n",
    "\n",
    "#for idx in range(nMeasurements):\n",
    "#    ax2.plot(distances[:nmax-1], corr[idx,1:nmax],alpha = 0.1, color = 'k')\n",
    "ax2.plot(distances[:nmax],mean_corr[:nmax],'x-',color = 'b')\n",
    "#ax2.plot(distances,np.power(distances,-5))\n",
    "ax2.set_xscale('log')\n",
    "ax2.set_yscale('log')"
   ]
  },
  {
   "cell_type": "code",
   "execution_count": null,
   "metadata": {},
   "outputs": [],
   "source": [
    "fig, ax = plt.subplots()\n",
    "ax.plot(corr[1:])\n",
    "ax.set_xscale('log')\n",
    "ax.set_yscale('log')\n",
    "print(corr[1:])"
   ]
  },
  {
   "cell_type": "code",
   "execution_count": null,
   "metadata": {},
   "outputs": [],
   "source": [
    "corr = np.zeros(int(len(model.border)/2))\n",
    "count = 0\n",
    "\n",
    "def integer_to_bits(num):\n",
    "    # Convert to binary and pad with zeros to ensure  11 bits\n",
    "    binary_str = format(num, '011b')\n",
    "    # Convert each character to an integer and return the list of bits\n",
    "    return np.array([int(bit)*2-1 for bit in binary_str])\n",
    "\n",
    "for state in range(2048):\n",
    "    spins = integer_to_bits(state)\n",
    "    model.spins = spins\n",
    "    if energy(model.spins) == -5:\n",
    "        corr += model.getBorderCorrelations()[0]\n",
    "        print(corr)\n",
    "        count += 1\n",
    "\n",
    "plt.plot(corr/count)\n",
    "\n"
   ]
  }
 ],
 "metadata": {
  "kernelspec": {
   "display_name": "Python 3",
   "language": "python",
   "name": "python3"
  },
  "language_info": {
   "codemirror_mode": {
    "name": "ipython",
    "version": 3
   },
   "file_extension": ".py",
   "mimetype": "text/x-python",
   "name": "python",
   "nbconvert_exporter": "python",
   "pygments_lexer": "ipython3",
   "version": "3.10.12"
  }
 },
 "nbformat": 4,
 "nbformat_minor": 2
}
