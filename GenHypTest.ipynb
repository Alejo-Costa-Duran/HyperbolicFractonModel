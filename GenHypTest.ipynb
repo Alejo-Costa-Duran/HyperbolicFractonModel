{
 "cells": [
  {
   "cell_type": "code",
   "execution_count": 1,
   "metadata": {},
   "outputs": [],
   "source": [
    "import matplotlib.pyplot as plt\n",
    "import numpy as np\n",
    "import Geodesics as gd\n",
    "import Model as md\n",
    "import cmath as cmt"
   ]
  },
  {
   "cell_type": "code",
   "execution_count": 2,
   "metadata": {},
   "outputs": [],
   "source": [
    "p = 5; q = 4; nlayers = 5\n",
    "nDecorr = 20\n",
    "nMeasurements = 1000000\n",
    "model = md.FractonModel(p,q,nlayers)\n",
    "nBorder = len(model.border)\n",
    "\n",
    "saveFreq = 10000\n",
    "corr = np.zeros((saveFreq,int(len(model.border)/2)))\n",
    "accum_spins = np.zeros((saveFreq,len(model.lattice)))\n",
    "\n",
    "saveCounter = 0\n",
    "for iteration in range(nMeasurements):\n",
    "    for decorr in range(nDecorr):\n",
    "        geod = np.random.choice(model.geodesicList)\n",
    "        inner = np.random.randint(2)*2-1\n",
    "        model.spins = model.spins*inner*geod.vect_inside()(model.centers)\n",
    "    accum_spins[saveCounter,:] = model.spins\n",
    "    corr[saveCounter,:] = model.getBorderCorrelations()/(nBorder)\n",
    "    saveCounter += 1\n",
    "    if(saveCounter == saveFreq):\n",
    "        np.save(\"./States\"+str(int(iteration/saveFreq))+\".npy\",np.array(accum_spins))\n",
    "        np.save(\"./Correlations\"+str(int(iteration/saveFreq))+\".npy\",corr)\n",
    "        corr = np.zeros((saveFreq,int(len(model.border)/2)))\n",
    "        accum_spins = np.zeros((saveFreq,len(model.lattice)))\n",
    "        saveCounter = 0\n"
   ]
  },
  {
   "cell_type": "code",
   "execution_count": null,
   "metadata": {},
   "outputs": [],
   "source": []
  }
 ],
 "metadata": {
  "kernelspec": {
   "display_name": "Python 3",
   "language": "python",
   "name": "python3"
  },
  "language_info": {
   "codemirror_mode": {
    "name": "ipython",
    "version": 3
   },
   "file_extension": ".py",
   "mimetype": "text/x-python",
   "name": "python",
   "nbconvert_exporter": "python",
   "pygments_lexer": "ipython3",
   "version": "3.10.12"
  }
 },
 "nbformat": 4,
 "nbformat_minor": 2
}
