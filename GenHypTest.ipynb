{
 "cells": [
  {
   "cell_type": "code",
   "execution_count": 1,
   "metadata": {},
   "outputs": [],
   "source": [
    "import matplotlib.pyplot as plt\n",
    "import numpy as np\n",
    "import Geodesics as gd\n",
    "import Model as md\n",
    "import cmath as cmt\n",
    "import glob\n"
   ]
  },
  {
   "cell_type": "code",
   "execution_count": 2,
   "metadata": {},
   "outputs": [],
   "source": [
    "p = 5; q = 4; nlayers = 5\n",
    "nDecorr = 20\n",
    "nMeasurements = 1000000\n",
    "saveFreq = 10000"
   ]
  },
  {
   "cell_type": "code",
   "execution_count": 3,
   "metadata": {},
   "outputs": [],
   "source": [
    "model = md.FractonModel(p,q,nlayers)"
   ]
  },
  {
   "cell_type": "code",
   "execution_count": 9,
   "metadata": {},
   "outputs": [],
   "source": [
    "\n",
    "model = md.FractonModel(p,q,nlayers)\n",
    "nBorder = len(model.border)\n",
    "corr = np.zeros((saveFreq,int(len(model.border)/2)))\n",
    "accum_spins = np.zeros((saveFreq,len(model.lattice)))\n",
    "\n",
    "saveCounter = 0\n",
    "for iteration in range(nMeasurements):\n",
    "    for decorr in range(nDecorr):\n",
    "        geod = np.random.choice(model.geodesicList)\n",
    "        inner = np.random.randint(2)*2-1\n",
    "        model.spins = model.spins*inner*geod.vect_inside()(model.centers)\n",
    "    accum_spins[saveCounter,:] = model.spins\n",
    "    corr[saveCounter,:] = model.getBorderCorrelations()/(nBorder)\n",
    "    saveCounter += 1\n",
    "    if(saveCounter == saveFreq):\n",
    "        np.save(\"./States\"+str(int(iteration/saveFreq))+\".npy\",np.array(accum_spins))\n",
    "        np.save(\"./Correlations\"+str(int(iteration/saveFreq))+\".npy\",corr)\n",
    "        corr = np.zeros((saveFreq,int(len(model.border)/2)))\n",
    "        accum_spins = np.zeros((saveFreq,len(model.lattice)))\n",
    "        saveCounter = 0\n"
   ]
  },
  {
   "cell_type": "code",
   "execution_count": 34,
   "metadata": {},
   "outputs": [],
   "source": [
    "corr_list = sorted(glob.glob(\"../Data/Correlations?.npy\"))\n",
    "corr_list += sorted(glob.glob(\"../Data/Correlations??.npy\"))\n",
    "\n",
    "states_list =sorted(glob.glob(\"../Data/States?.npy\"))\n",
    "states_list +=sorted(glob.glob(\"../Data/States??.npy\"))\n",
    "distances = np.linspace(1,280,280)"
   ]
  },
  {
   "cell_type": "code",
   "execution_count": null,
   "metadata": {},
   "outputs": [],
   "source": [
    "\n",
    "\n",
    "\n",
    "corrs = np.zeros((nMeasurements,280))\n",
    "for num,file in enumerate(corr_list):\n",
    "    corr = np.load(file)\n",
    "    corrs[10000*num:10000*(num+1),:] = corr\n",
    "meanCorrelation = np.mean(corrs,axis = 0)\n",
    "meanAbsCorrelation = np.mean(np.abs(corrs),axis = 0)\n",
    "absMeanCorrelation = np.abs(meanCorrelation)\n",
    "dmax = 150\n",
    "plt.plot(distances[:dmax],meanCorrelation[:dmax],label = 'Mean')\n",
    "#plt.plot(distances[:dmax],meanAbsCorrelation[:dmax], label = 'Mean Abs')\n",
    "plt.plot(distances[:dmax],absMeanCorrelation[:dmax], label = 'Abs Mean')\n",
    "plt.legend()"
   ]
  },
  {
   "cell_type": "code",
   "execution_count": 60,
   "metadata": {},
   "outputs": [
    {
     "name": "stdout",
     "output_type": "stream",
     "text": [
      "0\n",
      "1\n",
      "2\n",
      "3\n",
      "4\n",
      "5\n",
      "6\n",
      "7\n",
      "8\n",
      "9\n",
      "10\n",
      "11\n",
      "12\n",
      "13\n",
      "14\n",
      "15\n",
      "16\n",
      "17\n",
      "18\n",
      "19\n",
      "20\n",
      "21\n",
      "22\n",
      "23\n",
      "24\n",
      "25\n",
      "26\n",
      "27\n",
      "28\n",
      "29\n",
      "30\n",
      "31\n",
      "32\n",
      "33\n",
      "34\n",
      "35\n",
      "36\n",
      "37\n",
      "38\n",
      "39\n",
      "40\n",
      "41\n",
      "42\n",
      "43\n",
      "44\n",
      "45\n",
      "46\n",
      "47\n",
      "48\n",
      "49\n",
      "50\n",
      "51\n",
      "52\n",
      "53\n",
      "54\n",
      "55\n",
      "56\n",
      "57\n",
      "58\n",
      "59\n",
      "60\n",
      "61\n",
      "62\n",
      "63\n",
      "64\n",
      "65\n",
      "66\n",
      "67\n",
      "68\n",
      "69\n",
      "70\n",
      "71\n",
      "72\n",
      "73\n",
      "74\n",
      "75\n",
      "76\n",
      "77\n",
      "78\n",
      "79\n",
      "80\n",
      "81\n",
      "82\n",
      "83\n",
      "84\n",
      "85\n",
      "86\n",
      "87\n",
      "88\n",
      "89\n",
      "90\n",
      "91\n",
      "92\n",
      "93\n",
      "94\n",
      "95\n",
      "96\n",
      "97\n",
      "98\n",
      "99\n"
     ]
    }
   ],
   "source": [
    "allCorrelations = np.zeros((560,280))\n",
    "\n",
    "for num, file in enumerate(states_list):\n",
    "    states = np.load(file)\n",
    "    print(num)\n",
    "    for idx,state in enumerate(states):\n",
    "        model.spins = state\n",
    "        allCorrelations[:,:] += model.getBorderCorrelationsEachSpin()"
   ]
  },
  {
   "cell_type": "code",
   "execution_count": 61,
   "metadata": {},
   "outputs": [],
   "source": [
    "np.save(\"../Data/MeansTest.npy\",allCorrelations)"
   ]
  },
  {
   "cell_type": "code",
   "execution_count": null,
   "metadata": {},
   "outputs": [],
   "source": []
  }
 ],
 "metadata": {
  "kernelspec": {
   "display_name": "Python 3",
   "language": "python",
   "name": "python3"
  },
  "language_info": {
   "codemirror_mode": {
    "name": "ipython",
    "version": 3
   },
   "file_extension": ".py",
   "mimetype": "text/x-python",
   "name": "python",
   "nbconvert_exporter": "python",
   "pygments_lexer": "ipython3",
   "version": "3.10.12"
  }
 },
 "nbformat": 4,
 "nbformat_minor": 2
}
