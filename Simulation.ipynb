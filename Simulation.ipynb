{
 "cells": [
  {
   "cell_type": "code",
   "execution_count": null,
   "metadata": {},
   "outputs": [],
   "source": [
    "import matplotlib.pyplot as plt\n",
    "import numpy as np\n",
    "import Geodesics as gd\n",
    "import Model as md\n",
    "import cmath as cmt\n",
    "import glob\n",
    "import os"
   ]
  },
  {
   "cell_type": "code",
   "execution_count": null,
   "metadata": {},
   "outputs": [],
   "source": [
    "##Set simulation parameters\n",
    "\n",
    "p = 5; q = 4; nlayers = 4 #Lattice parameters\n",
    "nDecorr = 100 #Steps to decorrelate\n",
    "nMeasurements = 50000 #Number of measurements\n",
    "saveFreq = 1000 #Save frequency\n",
    "#Set up model\n",
    "model = md.FractonModel(p,q,nlayers)\n",
    "\n",
    "# Define the directory where you want to save the files\n",
    "save_dir = \"../Data/P\"+str(p)+\"Q\"+str(q)+\"/\"+str(nlayers)+\"Layers\"\n",
    "\n",
    "# Check if the directory exists, if not, create it\n",
    "if not os.path.exists(save_dir):\n",
    "    os.makedirs(save_dir)"
   ]
  },
  {
   "cell_type": "code",
   "execution_count": null,
   "metadata": {},
   "outputs": [],
   "source": [
    "#Set up model\n",
    "model = md.FractonModel(p,q,nlayers)\n",
    "\n",
    "#Number of spins in the border\n",
    "nBorder = len(model.border)\n",
    "\n",
    "#Initialize correlation and states arrays\n",
    "corr = np.zeros((saveFreq,int(len(model.border)/2)))\n",
    "accum_spins = np.zeros((saveFreq,len(model.lattice)))\n",
    "\n",
    "#Initialize save counter\n",
    "saveCounter = 0\n",
    "\n",
    "#Simulation main loop\n",
    "for iteration in range(nMeasurements):\n",
    "    model.decorrelate(nDecorr)\n",
    "    print(iteration)\n",
    "    accum_spins[saveCounter,:] = model.spins\n",
    "    corr[saveCounter,:] = model.getBorderCorrelations()/(nBorder)\n",
    "    saveCounter += 1\n",
    "    if(saveCounter == saveFreq):\n",
    "        np.save(os.path.join(save_dir, \"States\" + str(int(iteration/saveFreq)) + \".npy\"),np.array(accum_spins))\n",
    "        np.save(os.path.join(save_dir, \"Correlations\" + str(int(iteration/saveFreq)) + \".npy\"),corr)\n",
    "        corr = np.zeros((saveFreq,int(len(model.border)/2)))\n",
    "        accum_spins = np.zeros((saveFreq,len(model.lattice)))\n",
    "        saveCounter = 0\n",
    "\n",
    "del corr\n",
    "del accum_spins"
   ]
  },
  {
   "cell_type": "code",
   "execution_count": null,
   "metadata": {},
   "outputs": [],
   "source": [
    "corr_list = sorted(glob.glob(\"../Data/Correlations?.npy\"))\n",
    "corr_list += sorted(glob.glob(\"../Data/Correlations??.npy\"))\n",
    "\n",
    "states_list =sorted(glob.glob(\"../Data/States?.npy\"))\n",
    "states_list +=sorted(glob.glob(\"../Data/States??.npy\"))\n",
    "\n",
    "distances = np.linspace(1,int(nBorder/2),int(nBorder))"
   ]
  },
  {
   "cell_type": "code",
   "execution_count": null,
   "metadata": {},
   "outputs": [],
   "source": [
    "allCorrelations = np.zeros((560,280))\n",
    "\n",
    "for num, file in enumerate(states_list):\n",
    "    states = np.load(file)\n",
    "    print(num)\n",
    "    for idx,state in enumerate(states):\n",
    "        model.spins = state\n",
    "        allCorrelations[:,:] += model.getBorderCorrelationsEachSpin()"
   ]
  },
  {
   "cell_type": "code",
   "execution_count": null,
   "metadata": {},
   "outputs": [],
   "source": [
    "allCorrelations = np.load(\"../Data/MeansTest.npy\")\n",
    "allCorrelations = allCorrelations/1000000\n",
    "distances = np.linspace(1,280,280)"
   ]
  },
  {
   "cell_type": "code",
   "execution_count": null,
   "metadata": {},
   "outputs": [],
   "source": [
    "fig, ax = plt.subplots()\n",
    "ax.plot(distances, np.sum(allCorrelations,axis = 0))\n",
    "ax.set_ylabel(r'$\\sum_{i=0}^{N_m}\\sum_{n=0}^L C^i_n(d)/(L\\cdot N)$')\n",
    "ax.set_xlabel(r'$d$')\n",
    "fig.savefig(\"/home/alejo/Desktop/BorderCorrelations.png\", format = 'png',  pad_inches = 1,bbox_inches= 'tight',transparent=True)"
   ]
  }
 ],
 "metadata": {
  "kernelspec": {
   "display_name": "Python 3",
   "language": "python",
   "name": "python3"
  },
  "language_info": {
   "codemirror_mode": {
    "name": "ipython",
    "version": 3
   },
   "file_extension": ".py",
   "mimetype": "text/x-python",
   "name": "python",
   "nbconvert_exporter": "python",
   "pygments_lexer": "ipython3",
   "version": "3.10.12"
  }
 },
 "nbformat": 4,
 "nbformat_minor": 2
}
