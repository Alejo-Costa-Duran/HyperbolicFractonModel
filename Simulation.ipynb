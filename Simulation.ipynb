{
 "cells": [
  {
   "cell_type": "code",
   "execution_count": 1,
   "metadata": {},
   "outputs": [],
   "source": [
    "import matplotlib.pyplot as plt\n",
    "import numpy as np\n",
    "import Geodesics as gd\n",
    "import Model as md\n",
    "import cmath as cmt\n",
    "import glob\n",
    "import os\n",
    "import time\n",
    "from scipy.optimize import curve_fit as cf\n",
    "from Functions import *"
   ]
  },
  {
   "cell_type": "markdown",
   "metadata": {},
   "source": [
    "## Monte Carlo Simulation (Swensden-Wang missing)"
   ]
  },
  {
   "cell_type": "code",
   "execution_count": null,
   "metadata": {},
   "outputs": [],
   "source": [
    "for nlayers in range(4,5):\n",
    "    #Set up model\n",
    "    p = 5; q = 4\n",
    "    start = time.time()\n",
    "    print(\"Defining model with \" + str(nlayers) + \" layers\", end = '\\r')\n",
    "    model = md.FractonModel(p,q,nlayers, kernel = 'SRG')\n",
    "    end = time.time()\n",
    "    elapsed = end-start\n",
    "    nSpins = len(model.lattice)\n",
    "    nGeods = len(model.geodesicList)\n",
    "    print(\"Finished defining model with \" + str(nlayers) + \" layers. It took: \" + str(round(elapsed,2)) + ' s'+' There are '+str(nSpins)+ ' sites and '+str(nGeods) + ' geodesics' +' '*100)\n",
    "    #Lattice parameters\n",
    "    nDecorr = 10 #Steps to decorrelate  \n",
    "    nMeasurements = nGeods*250 #Number of measurements\n",
    "    saveFreq = 1000 #Save frequency\n",
    "    \n",
    "    # Define the directory where you want to save the files\n",
    "    save_dir = \"../Data/P\"+str(p)+\"Q\"+str(q)+\"/\"+str(nlayers)+\"Layers\"\n",
    "    timeSeries_dir = save_dir+'/Correlations'\n",
    "    # Check if the directory exists, if not, create it\n",
    "    if not os.path.exists(save_dir):\n",
    "        os.makedirs(save_dir)\n",
    "        os.makedirs(timeSeries_dir)\n",
    "\n",
    "    #Number of spins in the border\n",
    "    nBorder = len(model.border)\n",
    "    distances = np.linspace(1,int(nBorder/2), int(nBorder/2))\n",
    "\n",
    "    #Initialize correlation and states arrays\n",
    "    corr = np.zeros(int(len(model.border)/2))\n",
    "    corrTimeSeries = np.zeros((saveFreq,int(len(model.border)/2)))\n",
    "    \n",
    "    \n",
    "    #Initialize save counter\n",
    "    saveCounter = 0\n",
    "    elapsed = 0\n",
    "    freq = 1\n",
    "    if nlayers > 5:\n",
    "        freq = 10\n",
    "    \n",
    "\n",
    "    ##EntanglementEntropy\n",
    "    start = time.time()\n",
    "    ent_entr = entanglement_entropy(model,freq = freq)\n",
    "    end = time.time()\n",
    "    print('Entropy took: ' + str(round(end-start,2)) + ' s' + ' '*1000, end = '\\n')\n",
    "    borderCenters = model.centers[model.border]\n",
    "    blockSizes = np.linspace(1,nBorder,nBorder)\n",
    "    np.save(os.path.join(save_dir, \"EntanglEntr.npy\"),ent_entr)\n",
    "    figEntr,axEntr = plt.subplots()\n",
    "    axEntr.set_title(\"Entropy Layers = \" + str(nlayers))\n",
    "    axEntr.plot(blockSizes,ent_entr)\n",
    "    axEntr.set_ylabel(r'$E_l$')\n",
    "    axEntr.set_xlabel(r'$l$')\n",
    "    axEntr.set_xscale('log')\n",
    "    figEntr.savefig(os.path.join(save_dir, \"EntanglEntr.eps\"), format = 'eps', bbox_inches = 'tight', pad_inches = 0)\n",
    "\n",
    "    #Simulation main loop\n",
    "\n",
    "    for iteration in range(nMeasurements):\n",
    "        start = time.time()\n",
    "        model.decorrelate(nDecorr)\n",
    "        temp = np.array(model.getBorderCorrelations()/nBorder)\n",
    "        corrTimeSeries[saveCounter,:] = temp/nMeasurements\n",
    "        corr += temp/nMeasurements\n",
    "        saveCounter += 1\n",
    "        end = time.time()\n",
    "        elapsed += end - start\n",
    "        if(saveCounter == saveFreq):\n",
    "            print('Computing correlation. \\tPercentage: ' + str(round(iteration/nMeasurements*100)) + '% \\t' + str(round(iteration/elapsed)) + ' it/s' + '\\t Time remaining: ' + str(round((elapsed*(nMeasurements-iteration)/iteration)/60,2)) +' min     ', end = '\\r')\n",
    "            np.save(os.path.join(save_dir, \"Correlation\" + \".npy\"),np.array(corr))\n",
    "            np.save(os.path.join(timeSeries_dir, \"CorrelationTimeSeries\"+str(int(iteration/saveFreq)) + \".npy\"),np.array(corrTimeSeries))\n",
    "            saveCounter = 0\n",
    "    print('Correlation took: ' + str(round(elapsed,2))+' s'+' '*1000, end = '\\n')\n",
    "\n",
    "    figCorr, axCorr = plt.subplots()\n",
    "    axCorr.set_title(\"Correlation Layers = \" + str(nlayers))\n",
    "    axCorr.plot(distances,corr/nMeasurements)\n",
    "    axCorr.set_ylabel(r'$\\left< e_ne_{n+d} \\right>$')\n",
    "    axCorr.set_xlabel(r'$d$')\n",
    "    figCorr.savefig(os.path.join(save_dir, \"CorrelationFigure.eps\"), format = 'eps', bbox_inches = 'tight', pad_inches = 0)\n",
    "\n",
    "\n",
    "    gedsPerLength = geodesicsePerLength(model)\n",
    "    np.save(os.path.join(save_dir, \"NumGeods.npy\"),geodesicsePerLength)"
   ]
  },
  {
   "cell_type": "markdown",
   "metadata": {},
   "source": [
    "## Entanglement entropy with BH"
   ]
  },
  {
   "cell_type": "code",
   "execution_count": 2,
   "metadata": {},
   "outputs": [],
   "source": [
    "model = md.FractonModel(5,4,7, kernel = 'SRG')\n",
    "insidePols = insidePolygons(model)\n",
    "bHoleRads = [0.01,0.31,0.71,0.82,0.89]"
   ]
  },
  {
   "cell_type": "code",
   "execution_count": 106,
   "metadata": {},
   "outputs": [
    {
     "name": "stdout",
     "output_type": "stream",
     "text": [
      "Finished black hole with radius 0.0100\n",
      "Finished black hole with radius 0.3100\n",
      "Finished black hole with radius 0.7100\n",
      "Finished black hole with radius 0.8200\n",
      "Finished black hole with radius 0.8900\n"
     ]
    }
   ],
   "source": [
    "borderSize = int(len(model.border))\n",
    "halfBorderSize = int(len(model.border)/2)\n",
    "borderPolygons = model.border\n",
    "entropy = np.zeros((len(bHoleRads),borderSize-1))\n",
    "\n",
    "step = 5\n",
    "numStatistics = int(borderSize/step)\n",
    "\n",
    "for radIdx,rad in enumerate(bHoleRads):\n",
    "    for size in range(2,halfBorderSize+2):\n",
    "        sizeBorder = size-1\n",
    "        complementSize = borderSize-sizeBorder\n",
    "        startTime = time.time()\n",
    "        for start in range(numStatistics):\n",
    "            first = step*start\n",
    "            last = (step*start+size-1)%borderSize\n",
    "            for g in range(len(model.geodesicList)):\n",
    "                if model.geodesicList[g].distanceToOrigin > rad:\n",
    "                    wedgeGeod = insidePols[g]\n",
    "                    x = wedgeGeod[first] == -1\n",
    "                    y = wedgeGeod[last] == -1\n",
    "                    if bool((x and not y) or (y and not x)):\n",
    "                                entropy[radIdx,sizeBorder-1] += 1\n",
    "                                entropy[radIdx,complementSize-1]+=1\n",
    "        end = time.time()\n",
    "        elapsed = end-startTime\n",
    "        message = f'Time remaining: {round(elapsed*(halfBorderSize+1-size)/60,2):.2f} m'\n",
    "        print(message, end = '\\r')\n",
    "    print(f'Finished black hole with radius {rad:.4f}',end = '\\n')\n",
    "entropy[:,int((borderSize-1)/2)] = entropy[:,int((borderSize-1)/2)]/2 \n",
    "entropy = entropy/numStatistics\n",
    "blockSizes = np.linspace(1,borderSize-1,borderSize-1)\n",
    "np.save(\"./entropy.py\",entropy)"
   ]
  },
  {
   "cell_type": "code",
   "execution_count": 177,
   "metadata": {},
   "outputs": [
    {
     "name": "stdout",
     "output_type": "stream",
     "text": [
      "779\n"
     ]
    },
    {
     "data": {
      "image/png": "[encoded data removed]",
      "text/plain": [
       "<Figure size 640x480 with 1 Axes>"
      ]
     },
     "metadata": {},
     "output_type": "display_data"
    }
   ],
   "source": [
    "np.save(\"./entropy.npy\",entropy)\n",
    "blockSizes = np.linspace(1,borderSize-1,borderSize-1)/borderSize\n",
    "smallL = blockSizes <0.1\n",
    "print(np.sum(smallL))\n",
    "for idx in range(5):\n",
    "    plt.plot(blockSizes[smallL],entropy[idx,smallL],'x-')\n",
    "\n"
   ]
  },
  {
   "cell_type": "code",
   "execution_count": 172,
   "metadata": {},
   "outputs": [
    {
     "name": "stdout",
     "output_type": "stream",
     "text": [
      "[6.86972893e+00 1.17570045e-04 1.00004628e+00]\n",
      "[[4.74546656e-03 5.28038013e-05 1.01066408e-04]\n",
      " [5.28038013e-05 5.91666234e-07 1.14044245e-06]\n",
      " [1.01066408e-04 1.14044245e-06 6.84823364e-06]]\n",
      "[ 3.72508219e+00  4.61632306e-06 -6.12920131e+04]\n",
      "[[ 3.41877231e-03  3.80625926e-08 -7.68655579e+07]\n",
      " [ 3.80625926e-08  4.28873222e-13 -5.93274975e+02]\n",
      " [-7.68655579e+07 -5.93274975e+02  1.34839766e+21]]\n"
     ]
    },
    {
     "name": "stderr",
     "output_type": "stream",
     "text": [
      "/tmp/ipykernel_300705/499798237.py:2: RuntimeWarning: invalid value encountered in log\n",
      "  return (c/3)*np.log(1.0/(np.pi*a)*np.sin(np.pi*x/beta))\n"
     ]
    }
   ],
   "source": [
    "def entropyFiniteSize(x,c,a,beta):\n",
    "    return (c/3)*np.log(1.0/(np.pi*a)*np.sin(np.pi*x/beta))\n",
    "par1, pcov1 = cf(entropyFiniteSize,blockSizes,entropy[0,:])\n",
    "print(par1)\n",
    "print(np.sqrt(pcov1))\n",
    "print(par2)\n",
    "print(pcov2)"
   ]
  },
  {
   "cell_type": "code",
   "execution_count": 150,
   "metadata": {},
   "outputs": [],
   "source": [
    "def entropyFiniteBeta(x,beta):\n",
    "    return (par1[0]/3)*np.log(beta/(np.pi*par1[1])*np.sin(np.pi*x/beta))"
   ]
  },
  {
   "cell_type": "code",
   "execution_count": 168,
   "metadata": {},
   "outputs": [
    {
     "data": {
      "text/plain": [
       "<matplotlib.legend.Legend at 0x7f77e045df60>"
      ]
     },
     "execution_count": 168,
     "metadata": {},
     "output_type": "execute_result"
    },
    {
     "data": {
      "image/png": "[encoded data removed]",
      "text/plain": [
       "<Figure size 640x480 with 1 Axes>"
      ]
     },
     "metadata": {},
     "output_type": "display_data"
    }
   ],
   "source": [
    "plt.plot(blockSizes[smallL],entropyFiniteSize(blockSizes[smallL],*par2),label = 'beta')\n",
    "plt.plot(blockSizes[smallL],entropy[2,smallL])\n",
    "\n",
    "plt.legend()"
   ]
  },
  {
   "cell_type": "code",
   "execution_count": null,
   "metadata": {},
   "outputs": [],
   "source": []
  }
 ],
 "metadata": {
  "kernelspec": {
   "display_name": "Python 3",
   "language": "python",
   "name": "python3"
  },
  "language_info": {
   "codemirror_mode": {
    "name": "ipython",
    "version": 3
   },
   "file_extension": ".py",
   "mimetype": "text/x-python",
   "name": "python",
   "nbconvert_exporter": "python",
   "pygments_lexer": "ipython3",
   "version": "3.10.12"
  }
 },
 "nbformat": 4,
 "nbformat_minor": 2
}
